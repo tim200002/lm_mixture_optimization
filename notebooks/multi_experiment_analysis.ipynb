{
 "cells": [
  {
   "cell_type": "code",
   "execution_count": 17,
   "metadata": {},
   "outputs": [],
   "source": [
    "# show matplotlin inline without anomation\n",
    "%matplotlib inline\n",
    "\n",
    "import sys\n",
    "sys.path.append(\"../\")\n",
    "\n",
    "import yaml\n",
    "import matplotlib.pyplot as plt\n",
    "import cattrs\n",
    "import numpy as np\n",
    "from typing import List\n",
    "#from mixture_optimization.datamodels.trial_tracking_config import Experiment, ValResult, Dict\n",
    "from mixture_optimization.datamodels.trial_tracking_config import Experiment, ValResult, Trial\n",
    "from collections import defaultdict\n",
    "\n",
    "from law import read_experiments, parse_results, fit, optimize"
   ]
  },
  {
   "cell_type": "code",
   "execution_count": 18,
   "metadata": {},
   "outputs": [],
   "source": [
    "def get_x_best_trial(experiment: Experiment, no_trials_to_return: int) -> List[Trial]:\n",
    "    \"\"\"\n",
    "    Get the best trials from an experiment\n",
    "    \"\"\"\n",
    "    # get the trials\n",
    "    trials = experiment.trials\n",
    "    # sort the trials\n",
    "    trials.sort(key=lambda x: x.weighted_val_perplexity)\n",
    "    # return the best trials\n",
    "    return trials[:no_trials_to_return]\n",
    "\n",
    "def print_experiments(experiments: List[Experiment]):\n",
    "    for i, experiment in enumerate(experiments):\n",
    "        print(f\"Experiment: {i}\")\n",
    "        experiment.trials = [trial for trial in experiment.trials if (trial.experiment_idx == i and trial.weighted_val_perplexity is not None)]\n",
    "        best_trial = get_x_best_trial(experiment, 1)[0]\n",
    "\n",
    "        print(f\"Best trial achieved perplexity: {best_trial.weighted_val_perplexity}. Mixing weights: {best_trial.true_mixing_weights}\")\n",
    "        "
   ]
  },
  {
   "cell_type": "code",
   "execution_count": 19,
   "metadata": {},
   "outputs": [],
   "source": [
    "path1 = \"../logs/uniform_books_cc_stack_small_0/experiment_history.yaml\"\n",
    "#path = \"../logs/bayesian_books_cc_stack_pes20_small_0/experiment_history.yaml\"\n",
    "path2 = \"../logs/bayesian_books_cc_stack_pes20_small_0/experiment_history_proper.yaml\"\n"
   ]
  },
  {
   "cell_type": "code",
   "execution_count": 20,
   "metadata": {},
   "outputs": [
    {
     "name": "stdout",
     "output_type": "stream",
     "text": [
      "Experiment: 0\n",
      "Best trial achieved perplexity: 5.474484905600548. Mixing weights: {'Books': 0.10878238936023847, 'CC': 0.19017045020255294, 'Pes2O': 0.5566995337460827, 'stack-v4': 0.14434762669112589}\n",
      "Experiment: 1\n",
      "Best trial achieved perplexity: 5.459082275629044. Mixing weights: {'Books': 0.12221109675841353, 'CC': 0.1942811718935115, 'Pes2O': 0.4462856662411814, 'stack-v4': 0.23722206510689361}\n"
     ]
    }
   ],
   "source": [
    "path1 = \"../logs/uniform_books_cc_stack_small_0/experiment_history.yaml\"\n",
    "experiments = read_experiments(path1)\n",
    "print_experiments(experiments)"
   ]
  },
  {
   "cell_type": "code",
   "execution_count": 21,
   "metadata": {},
   "outputs": [
    {
     "name": "stdout",
     "output_type": "stream",
     "text": [
      "Experiment: 0\n",
      "Best trial achieved perplexity: 5.447764471173286. Mixing weights: {'Books': 0.26482255734497173, 'CC': 0.1623850616444115, 'Pes2O': 0.36703839304140456, 'stack-v4': 0.20575398796921218}\n",
      "Experiment: 1\n",
      "Best trial achieved perplexity: 5.438736446201801. Mixing weights: {'Books': 0.14730453791532588, 'CC': 0.24138774449480627, 'Pes2O': 0.3644396205792205, 'stack-v4': 0.24686809701064732}\n"
     ]
    }
   ],
   "source": [
    "experiments = read_experiments(path2)\n",
    "print_experiments(experiments)"
   ]
  },
  {
   "cell_type": "code",
   "execution_count": 22,
   "metadata": {},
   "outputs": [
    {
     "name": "stdout",
     "output_type": "stream",
     "text": [
      "Experiment: 0\n",
      "Best trial achieved perplexity: 5.460089989006519. Mixing weights: {'Books': 0.12183843031743727, 'CC': 0.09757011060238938, 'Pes2O': 0.5564974126531579, 'stack-v4': 0.22409404642701541}\n",
      "Experiment: 1\n",
      "Best trial achieved perplexity: 5.461388051509857. Mixing weights: {'Books': 0.10216233155750548, 'CC': 0.23296466433796273, 'Pes2O': 0.3699658337855707, 'stack-v4': 0.2949071703189611}\n"
     ]
    }
   ],
   "source": [
    "path = \"../logs/uniform_books_cc_stack_pes20_small_0/experiment_history.yaml\"\n",
    "experiments = read_experiments(path)\n",
    "print_experiments(experiments)\n"
   ]
  },
  {
   "cell_type": "code",
   "execution_count": 25,
   "metadata": {},
   "outputs": [
    {
     "name": "stdout",
     "output_type": "stream",
     "text": [
      "Experiment: 0\n",
      "Best trial achieved perplexity: 5.447764471173286. Mixing weights: {'Books': 0.26482255734497173, 'CC': 0.1623850616444115, 'Pes2O': 0.36703839304140456, 'stack-v4': 0.20575398796921218}\n",
      "Experiment: 1\n",
      "Best trial achieved perplexity: 5.438736446201801. Mixing weights: {'Books': 0.14730453791532588, 'CC': 0.24138774449480627, 'Pes2O': 0.3644396205792205, 'stack-v4': 0.24686809701064732}\n",
      "Experiment: 2\n",
      "Best trial achieved perplexity: 5.44465134292841. Mixing weights: {'Books': 0.10903462508598945, 'CC': 0.31504242146296724, 'Pes2O': 0.367622105021784, 'stack-v4': 0.20830084842925933}\n"
     ]
    }
   ],
   "source": [
    "path = \"../logs/bayesian_books_cc_stack_pes20_small_0/experiment_history_original.yaml\"\n",
    "experiments = read_experiments(path)\n",
    "print_experiments(experiments)"
   ]
  },
  {
   "cell_type": "code",
   "execution_count": null,
   "metadata": {},
   "outputs": [],
   "source": []
  }
 ],
 "metadata": {
  "kernelspec": {
   "display_name": "base",
   "language": "python",
   "name": "python3"
  },
  "language_info": {
   "codemirror_mode": {
    "name": "ipython",
    "version": 3
   },
   "file_extension": ".py",
   "mimetype": "text/x-python",
   "name": "python",
   "nbconvert_exporter": "python",
   "pygments_lexer": "ipython3",
   "version": "3.10.14"
  }
 },
 "nbformat": 4,
 "nbformat_minor": 2
}
