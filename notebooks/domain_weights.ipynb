{
 "cells": [
  {
   "cell_type": "code",
   "execution_count": 2,
   "metadata": {},
   "outputs": [
    {
     "name": "stdout",
     "output_type": "stream",
     "text": [
      "CC: 74.56%\n",
      "Stack: 13.43%\n",
      "C4: 6.47%\n",
      "Reddit: 2.91%\n",
      "Pes20: 2.29%\n",
      "Gutenberg: 0.20%\n",
      "Wikipedia: 0.14%\n"
     ]
    }
   ],
   "source": [
    "domains_tokens = {\n",
    "    \"CC\": 2281,\n",
    "    \"Stack\": 411,\n",
    "    \"C4\": 198,\n",
    "    \"Reddit\": 89,\n",
    "    \"Pes20\": 70,\n",
    "    \"Gutenberg\": 6,\n",
    "    \"Wikipedia\": 4.3\n",
    "}\n",
    "\n",
    "all_tokens = sum(domains_tokens.values())\n",
    "\n",
    "for domain, tokens in domains_tokens.items():\n",
    "    print(f\"{domain}: {tokens/all_tokens:.2%}\")"
   ]
  },
  {
   "cell_type": "code",
   "execution_count": 3,
   "metadata": {},
   "outputs": [
    {
     "name": "stdout",
     "output_type": "stream",
     "text": [
      "CC: 79.84%\n",
      "Books: 0.21%\n",
      "Stack: 14.39%\n",
      "Pes20: 2.45%\n",
      "Reddit: 3.12%\n"
     ]
    }
   ],
   "source": [
    "# only take some domains but keep the relative proportions\n",
    "selected_domains = {\n",
    "    \"CC\": domains_tokens[\"CC\"],\n",
    "    \"Books\": domains_tokens[\"Gutenberg\"],\n",
    "    \"Stack\": domains_tokens[\"Stack\"],\n",
    "    \"Pes20\": domains_tokens[\"Pes20\"],\n",
    "    \"Reddit\": domains_tokens[\"Reddit\"]\n",
    "}\n",
    "\n",
    "selected_tokens = sum(selected_domains.values())\n",
    "\n",
    "for domain, tokens in selected_domains.items():\n",
    "    print(f\"{domain}: {tokens/selected_tokens:.2%}\")\n"
   ]
  },
  {
   "cell_type": "markdown",
   "metadata": {},
   "source": []
  },
  {
   "cell_type": "markdown",
   "metadata": {},
   "source": [
    "# Red Pyaja mixture\n",
    "\n",
    "CC: 67%\n",
    "C4: 15%\n",
    "Code: 4.5%\n",
    "Wikipedia: 4.5%\n",
    "Arxiv: 2.5%\n",
    "Stack Exchange: 2.0%"
   ]
  },
  {
   "cell_type": "code",
   "execution_count": null,
   "metadata": {},
   "outputs": [],
   "source": []
  }
 ],
 "metadata": {
  "kernelspec": {
   "display_name": "base",
   "language": "python",
   "name": "python3"
  },
  "language_info": {
   "codemirror_mode": {
    "name": "ipython",
    "version": 3
   },
   "file_extension": ".py",
   "mimetype": "text/x-python",
   "name": "python",
   "nbconvert_exporter": "python",
   "pygments_lexer": "ipython3",
   "version": "3.10.14"
  }
 },
 "nbformat": 4,
 "nbformat_minor": 2
}
