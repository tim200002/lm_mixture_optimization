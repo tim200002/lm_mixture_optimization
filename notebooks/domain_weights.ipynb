{
 "cells": [
  {
   "cell_type": "code",
   "execution_count": 1,
   "metadata": {},
   "outputs": [
    {
     "name": "stdout",
     "output_type": "stream",
     "text": [
      "CC: 74.56%\n",
      "Stack: 13.43%\n",
      "C4: 6.47%\n",
      "Reddit: 2.91%\n",
      "Pes20: 2.29%\n",
      "Gutenberg: 0.20%\n",
      "Wikipedia: 0.14%\n"
     ]
    }
   ],
   "source": [
    "domains_tokens = {\n",
    "    \"CC\": 2281,\n",
    "    \"Stack\": 411,\n",
    "    \"C4\": 198,\n",
    "    \"Reddit\": 89,\n",
    "    \"Pes20\": 70,\n",
    "    \"Gutenberg\": 6,\n",
    "    \"Wikipedia\": 4.3\n",
    "}\n",
    "\n",
    "all_tokens = sum(domains_tokens.values())\n",
    "\n",
    "for domain, tokens in domains_tokens.items():\n",
    "    print(f\"{domain}: {tokens/all_tokens:.2%}\")"
   ]
  },
  {
   "cell_type": "code",
   "execution_count": null,
   "metadata": {},
   "outputs": [],
   "source": []
  }
 ],
 "metadata": {
  "kernelspec": {
   "display_name": "base",
   "language": "python",
   "name": "python3"
  },
  "language_info": {
   "codemirror_mode": {
    "name": "ipython",
    "version": 3
   },
   "file_extension": ".py",
   "mimetype": "text/x-python",
   "name": "python",
   "nbconvert_exporter": "python",
   "pygments_lexer": "ipython3",
   "version": "3.10.14"
  }
 },
 "nbformat": 4,
 "nbformat_minor": 2
}
