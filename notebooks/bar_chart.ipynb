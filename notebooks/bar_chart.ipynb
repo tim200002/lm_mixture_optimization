{
 "cells": [
  {
   "cell_type": "code",
   "execution_count": 2,
   "metadata": {},
   "outputs": [],
   "source": [
    "# show matplotlin inline without anomation\n",
    "%matplotlib inline\n",
    "\n",
    "import sys\n",
    "sys.path.append(\"../\")\n",
    "\n",
    "import yaml\n",
    "import matplotlib.pyplot as plt\n",
    "import cattrs\n",
    "import numpy as np\n",
    "from typing import List\n",
    "#from mixture_optimization.datamodels.trial_tracking_config import Experiment, ValResult, Dict\n",
    "from mixture_optimization.datamodels.trial_tracking_config import Experiment, ValResult, Trial\n",
    "from collections import defaultdict\n",
    "from typing import Dict\n",
    "\n",
    "from law import read_experiments, parse_results, fit, optimize"
   ]
  },
  {
   "cell_type": "code",
   "execution_count": 6,
   "metadata": {},
   "outputs": [],
   "source": [
    "def parse_val_res(res: Dict[str, ValResult]):\n",
    "    out_dict = {}\n",
    "    for domain, val_res in res.items():\n",
    "        out_dict[domain] = val_res.loss\n",
    "    \n",
    "    return out_dict\n",
    "\n",
    "\n",
    "def find_best_trial(exp: Experiment):\n",
    "    trials = exp.trials\n",
    "\n",
    "    best_trial = None\n",
    "    for trial in trials:\n",
    "        if trial.val_results is None:\n",
    "            continue\n",
    "\n",
    "        if best_trial is None or trial.weighted_val_perplexity < best_trial.weighted_val_perplexity:\n",
    "            best_trial = trial\n",
    "\n",
    "    return best_trial"
   ]
  },
  {
   "cell_type": "code",
   "execution_count": 11,
   "metadata": {},
   "outputs": [
    {
     "name": "stdout",
     "output_type": "stream",
     "text": [
      "Best ref trial weigthed val perplexity 4.41090335547924\n",
      "Best trial weighted val perplexity 4.368822938203812\n"
     ]
    }
   ],
   "source": [
    "ref_path = \"../logs/uniform_books_cc_stack_peso_reddit/experiment_history.yaml\"\n",
    "path = \"../logs/bayesian_books_cc_stack_pes2o_reddit_16init_1/experiment_history.yaml\"\n",
    "path = \"../logs/bayesian_books_cc_stack_pes2o_reddit_32init_0/experiment_history.yaml\"\n",
    "\n",
    "ref_exp = read_experiments(ref_path)[0]\n",
    "exp = read_experiments(path)[0]\n",
    "\n",
    "best_ref_trial = find_best_trial(ref_exp)\n",
    "best_trial = find_best_trial(exp)\n",
    "\n",
    "print(f\"Best ref trial weigthed val perplexity {best_ref_trial.weighted_val_perplexity}\")\n",
    "print(f\"Best trial weighted val perplexity {best_trial.weighted_val_perplexity}\")\n",
    "ref_res = parse_val_res(best_ref_trial.val_results)\n",
    "res = parse_val_res(best_trial.val_results)"
   ]
  },
  {
   "cell_type": "code",
   "execution_count": 18,
   "metadata": {},
   "outputs": [
    {
     "data": {
      "text/plain": [
       "<matplotlib.legend.Legend at 0x7fbbb1a6f2e0>"
      ]
     },
     "execution_count": 18,
     "metadata": {},
     "output_type": "execute_result"
    },
    {
     "data": {
      "image/png": "[encoded data removed]",
      "text/plain": [
       "<Figure size 1000x500 with 1 Axes>"
      ]
     },
     "metadata": {},
     "output_type": "display_data"
    }
   ],
   "source": [
    "# Extract keys and values\n",
    "domains = list(res.keys())\n",
    "best_scores = list(res.values())\n",
    "init_scores = list(ref_res.values())\n",
    "\n",
    "# Define the positions of the bars\n",
    "x = range(len(domains))\n",
    "width = 0.35  # width of the bars\n",
    "\n",
    "# Plotting the grouped bar chart\n",
    "fig, ax = plt.subplots(figsize=(10, 5))\n",
    "ax.bar([i - width/2 for i in x], best_scores, width, label='Best BO')\n",
    "ax.bar([i + width/2 for i in x], init_scores, width, label='Best Sobol')\n",
    "\n",
    "# Adding labels and title\n",
    "ax.set_xlabel('Source')\n",
    "ax.set_ylabel('Log Perplexity')\n",
    "ax.set_xticks(x)\n",
    "ax.set_xticklabels(domains)\n",
    "ax.legend()"
   ]
  },
  {
   "cell_type": "code",
   "execution_count": 19,
   "metadata": {},
   "outputs": [
    {
     "name": "stdout",
     "output_type": "stream",
     "text": [
      "[4.507295250892639, 4.807746887207031, 4.587223589420319, 4.805037200450897, 3.136811763048172]\n",
      "[4.483496695756912, 4.782995909452438, 5.134135961532593, 4.684157907962799, 2.9697303026914597]\n"
     ]
    }
   ],
   "source": [
    "print(best_scores)\n",
    "print(init_scores)"
   ]
  },
  {
   "cell_type": "markdown",
   "metadata": {},
   "source": []
  },
  {
   "cell_type": "code",
   "execution_count": null,
   "metadata": {},
   "outputs": [],
   "source": []
  }
 ],
 "metadata": {
  "kernelspec": {
   "display_name": "base",
   "language": "python",
   "name": "python3"
  },
  "language_info": {
   "codemirror_mode": {
    "name": "ipython",
    "version": 3
   },
   "file_extension": ".py",
   "mimetype": "text/x-python",
   "name": "python",
   "nbconvert_exporter": "python",
   "pygments_lexer": "ipython3",
   "version": "3.10.14"
  }
 },
 "nbformat": 4,
 "nbformat_minor": 2
}
