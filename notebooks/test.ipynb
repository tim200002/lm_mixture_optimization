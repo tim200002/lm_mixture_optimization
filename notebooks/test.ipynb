{
 "cells": [
  {
   "cell_type": "code",
   "execution_count": 1,
   "metadata": {},
   "outputs": [],
   "source": [
    "import numpy as np"
   ]
  },
  {
   "cell_type": "code",
   "execution_count": 2,
   "metadata": {},
   "outputs": [],
   "source": [
    "simplex_values = np.array([4.4109 , 4.4281 , 4.4531 , 4.4552])\n",
    "bayesian_values = np.array([4.3688 , 4.3781 , 4.4123 , 4.3842])"
   ]
  },
  {
   "cell_type": "code",
   "execution_count": 3,
   "metadata": {},
   "outputs": [
    {
     "name": "stdout",
     "output_type": "stream",
     "text": [
      "Simplex has mean of 4.436824999999999 and std of 0.01837625846030689\n",
      "Bayesian has mean of 4.38585 and std of 0.016225674100018156\n"
     ]
    }
   ],
   "source": [
    "print(f\"Simplex has mean of {np.mean(simplex_values)} and std of {np.std(simplex_values)}\")\n",
    "print(f\"Bayesian has mean of {np.mean(bayesian_values)} and std of {np.std(bayesian_values)}\")"
   ]
  },
  {
   "cell_type": "code",
   "execution_count": null,
   "metadata": {},
   "outputs": [],
   "source": [
    "simplex_values = np.array([5.4745 , 5.4591 , 5.4601 , 5.4553])\n",
    "bayesian_values = np.array([5.4478 , 5.4387 , 5.4412 , 5.4409])"
   ]
  }
 ],
 "metadata": {
  "kernelspec": {
   "display_name": "base",
   "language": "python",
   "name": "python3"
  },
  "language_info": {
   "codemirror_mode": {
    "name": "ipython",
    "version": 3
   },
   "file_extension": ".py",
   "mimetype": "text/x-python",
   "name": "python",
   "nbconvert_exporter": "python",
   "pygments_lexer": "ipython3",
   "version": "3.10.14"
  }
 },
 "nbformat": 4,
 "nbformat_minor": 2
}
