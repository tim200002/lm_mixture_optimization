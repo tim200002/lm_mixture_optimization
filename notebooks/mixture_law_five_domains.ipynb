{
 "cells": [
  {
   "cell_type": "code",
   "execution_count": 8,
   "metadata": {},
   "outputs": [],
   "source": [
    "%matplotlib widget\n",
    "\n",
    "import sys\n",
    "sys.path.append(\"../\")\n",
    "\n",
    "import yaml\n",
    "import matplotlib.pyplot as plt\n",
    "import cattrs\n",
    "from typing import List\n",
    "from mixture_optimization.datamodels.trial_tracking_config import Experiment, ValResult, Dict\n",
    "from collections import defaultdict\n",
    "import numpy as np\n",
    "\n",
    "\n",
    "from law import read_experiments, parse_results, fit, optimize\n",
    "from copy import deepcopy"
   ]
  },
  {
   "cell_type": "code",
   "execution_count": 9,
   "metadata": {},
   "outputs": [],
   "source": [
    "# Merge both experiments\n",
    "path_1 = \"../logs/uniform_books_cc_stack_peso_reddit/experiment_history.yaml\"\n",
    "path_2 = \"../logs/uniform_books_cc_stack_pes20_reddit_0/experiment_history.yaml\""
   ]
  },
  {
   "cell_type": "code",
   "execution_count": 10,
   "metadata": {},
   "outputs": [],
   "source": [
    "def filter_trial(experiment: Experiment):\n",
    "    experiment.trials = [trial for trial in experiment.trials if trial.weighted_val_perplexity is not None]\n",
    "    return experiment"
   ]
  },
  {
   "cell_type": "code",
   "execution_count": 11,
   "metadata": {},
   "outputs": [
    {
     "name": "stdout",
     "output_type": "stream",
     "text": [
      "Experiment 1: 32 trials\n",
      "Experiment 2: 11 trials\n",
      "Experiment merged: 43 trials\n"
     ]
    }
   ],
   "source": [
    "experiment_1 = read_experiments(path_1)[0]\n",
    "experiment_2 = read_experiments(path_2)[0]\n",
    "\n",
    "experiment_1 = filter_trial(experiment_1)\n",
    "experiment_2 = filter_trial(experiment_2)\n",
    "\n",
    "print(f\"Experiment 1: {len(experiment_1.trials)} trials\")\n",
    "print(f\"Experiment 2: {len(experiment_2.trials)} trials\")\n",
    "\n",
    "experiment_merged = deepcopy(experiment_1)\n",
    "experiment_merged.trials.extend(experiment_2.trials)\n",
    "print(f\"Experiment merged: {len(experiment_merged.trials)} trials\")"
   ]
  },
  {
   "cell_type": "code",
   "execution_count": 17,
   "metadata": {},
   "outputs": [
    {
     "name": "stdout",
     "output_type": "stream",
     "text": [
      "Best weights: ['Books: 0.1665496656343505', 'CC: 0.0928666813209978', 'Pes2O: 0.22210864004797307', 'Reddit: 0.09975565527299625', 'stack-v4: 0.4187193577236824'], predicted value: 4.382244095522617\n"
     ]
    }
   ],
   "source": [
    "def func(r, B, b):\n",
    "    eps = 1e-6\n",
    "    return B / (r ** b + eps)\n",
    "\n",
    "best_parameters, results = fit(experiment_merged, func, region=(0.05, 0.9))\n",
    "best_weights, pred_value = optimize(func, best_parameters)\n",
    "\n",
    "domain_names = list(best_parameters.keys())\n",
    "weight_str = [f\"{name}: {weight}\" for (name, weight) in zip(domain_names, best_weights)]\n",
    "print(f\"Best weights: {weight_str}, predicted value: {pred_value}\")"
   ]
  },
  {
   "cell_type": "code",
   "execution_count": null,
   "metadata": {},
   "outputs": [],
   "source": []
  }
 ],
 "metadata": {
  "kernelspec": {
   "display_name": "base",
   "language": "python",
   "name": "python3"
  },
  "language_info": {
   "codemirror_mode": {
    "name": "ipython",
    "version": 3
   },
   "file_extension": ".py",
   "mimetype": "text/x-python",
   "name": "python",
   "nbconvert_exporter": "python",
   "pygments_lexer": "ipython3",
   "version": "3.10.14"
  }
 },
 "nbformat": 4,
 "nbformat_minor": 2
}
